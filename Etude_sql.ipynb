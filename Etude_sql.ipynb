{
 "cells": [
  {
   "cell_type": "markdown",
   "id": "3f9c9dd9",
   "metadata": {},
   "source": [
    "# Brazilian E-Commerce\n",
    "## Etude SQL du dataset olist"
   ]
  },
  {
   "cell_type": "markdown",
   "id": "9880d7ba",
   "metadata": {},
   "source": [
    "![title](banner.jpg)"
   ]
  },
  {
   "cell_type": "markdown",
   "id": "ff8c9d17",
   "metadata": {},
   "source": [
    "### Introduction du dataset"
   ]
  },
  {
   "cell_type": "markdown",
   "id": "2da64f76",
   "metadata": {},
   "source": [
    "L'ensemble de données contient des informations sur 100 000 commandes de 2016 à 2018 passées sur plusieurs marchés au Brésil. Ses fonctionnalités permettent de visualiser une commande sous plusieurs dimensions : du statut de la commande, du prix, du paiement et des performances de transport à l'emplacement du client, aux attributs du produit et enfin aux avis rédigés par les clients. Nous avons également publié un ensemble de données de géolocalisation qui relie les codes postaux brésiliens aux coordonnées lat/lng.\n",
    "\n",
    "Il s'agit de véritables données commerciales, elles ont été anonymisées et les références aux sociétés et partenaires dans le texte de la critique ont été remplacées par les noms des grandes maisons de Game of Thrones. "
   ]
  },
  {
   "cell_type": "markdown",
   "id": "9ae8f2cb",
   "metadata": {},
   "source": [
    "### Contexte"
   ]
  },
  {
   "cell_type": "markdown",
   "id": "f0a5bafc",
   "metadata": {},
   "source": [
    "Cet ensemble de données a été généreusement fourni par Olist, le plus grand magasin des marchés brésiliens. Olist connecte les petites entreprises de tout le Brésil à des canaux sans tracas et avec un seul contrat. Ces marchands peuvent vendre leurs produits via la boutique Olist et les expédier directement aux clients en utilisant les partenaires logistiques d'Olist. En savoir plus sur notre site : www.olist.com\n",
    "\n",
    "Une fois qu'un client a acheté le produit sur Olist Store, un vendeur est informé de l'exécution de cette commande. Une fois que le client a reçu le produit ou que la date de livraison estimée est due, le client reçoit une enquête de satisfaction par e-mail où il peut donner une note pour l'expérience d'achat et écrire quelques commentaires. "
   ]
  },
  {
   "cell_type": "markdown",
   "id": "0c8232d7",
   "metadata": {},
   "source": [
    "#### Analyse du contexte : logigramme"
   ]
  },
  {
   "cell_type": "markdown",
   "id": "4d0f276a",
   "metadata": {},
   "source": [
    "![title](logigram.jpg)"
   ]
  },
  {
   "cell_type": "markdown",
   "id": "5fffff4b",
   "metadata": {},
   "source": [
    "### Point d'attention\n",
    "\n",
    "- Une commande peut contenir plusieurs articles.\n",
    "- Chaque article peut être rempli par un vendeur distinct.\n",
    "- Tous les textes identifiant les magasins et les partenaires ont été remplacés par les noms des grandes maisons de Game of Thrones. \n"
   ]
  },
  {
   "cell_type": "markdown",
   "id": "3f7d3f13",
   "metadata": {},
   "source": [
    "## Shema de la base de données"
   ]
  },
  {
   "cell_type": "markdown",
   "id": "82114074",
   "metadata": {},
   "source": [
    "![title](https://i.imgur.com/HRhd2Y0.png)"
   ]
  },
  {
   "cell_type": "markdown",
   "id": "4d861a66",
   "metadata": {},
   "source": [
    "### Analyse dans les discussions du dataset"
   ]
  },
  {
   "cell_type": "markdown",
   "id": "6c4e70f8",
   "metadata": {},
   "source": [
    "- Un client à un customer_id par commande\n",
    "- Un client n'a qu'un seul customer_unique_id\n",
    "- Un client peut commander plusieurs articles similaires (même référence) en une seule commande, `item_id` est utilisé pour les identifier séparément\n",
    "- Le code postal au Brésil est sur 8 chiffres\n",
    "- Le prix est en réal brésilien (BRL)\n",
    "- Le dataframe `olist_order_reviews_dataset.csv` a plusieurs enregistrements avec le même `review_id`\n",
    "- Les `order_id` semblent faire référence à des commandes très similaires mais pour des clients différents, placés très près dans le temps les uns des autres\n",
    "- Le dataframe `olist_order_payments_dataset` a en effet des valeurs `order_id` dupliquées, cela se produit car une commande peut avoir plusieurs modes de paiement \n",
    "- Chaque commande est attribuée à un `customer_id` unique. Cela signifie que le même client obtiendra des identifiants différents pour différentes commandes. Le but d'avoir un `customer_unique_id` sur l'ensemble de données est de permettre d'identifier les clients qui ont effectué des rachats dans le magasin. Sinon chaque commande est associée à un client différent. \n",
    "\n",
    "\n",
    "- https://www.kaggle.com/olistbr/brazilian-ecommerce/discussion/66466\n",
    "- https://www.kaggle.com/olistbr/brazilian-ecommerce/discussion/69667\n",
    "- https://www.kaggle.com/olistbr/brazilian-ecommerce/discussion/66851"
   ]
  },
  {
   "cell_type": "markdown",
   "id": "6dc3e122",
   "metadata": {},
   "source": [
    "### Analyse des données"
   ]
  },
  {
   "cell_type": "code",
   "execution_count": 1,
   "id": "be5fcfb5",
   "metadata": {},
   "outputs": [],
   "source": [
    "#import des lib\n",
    "import pandas as pd"
   ]
  },
  {
   "cell_type": "code",
   "execution_count": 103,
   "id": "d1cf8ec9",
   "metadata": {},
   "outputs": [],
   "source": [
    "# Chargement des dataset\n",
    "order_review = pd.read_csv('olist_order_reviews_dataset.csv')\n",
    "order_payments = pd.read_csv('olist_order_payments_dataset.csv')\n",
    "orders = pd.read_csv('olist_orders_dataset.csv')\n",
    "order_customer = pd.read_csv('olist_customers_dataset.csv')\n",
    "products = pd.read_csv('olist_products_dataset.csv')\n",
    "order_items = pd.read_csv('olist_order_items_dataset.csv')\n",
    "sellers = pd.read_csv('olist_sellers_dataset.csv')\n",
    "geolocation = pd.read_csv('olist_geolocation_dataset.csv')\n",
    "product_category_name_translation = pd.read_csv('product_category_name_translation.csv')"
   ]
  },
  {
   "cell_type": "code",
   "execution_count": 92,
   "id": "8f91836d",
   "metadata": {},
   "outputs": [],
   "source": [
    "# Affiche l'analyse d'un dataframe\n",
    "def analyseDf(df):\n",
    "    print('Nombre de lignes et colonnes :',df.shape)\n",
    "    print('\\nType de données :\\n')\n",
    "    print(df.dtypes)\n",
    "    print('\\nValeurs manquantes :\\n')\n",
    "    print(df.isna().sum())\n",
    "    print('\\nNombre de doublons :\\n')\n",
    "    for col in df:\n",
    "        print(col,':',df[col].duplicated().sum(),'doublons')"
   ]
  },
  {
   "cell_type": "markdown",
   "id": "c946a7eb",
   "metadata": {},
   "source": [
    "#### Analyse de order_review"
   ]
  },
  {
   "cell_type": "code",
   "execution_count": 93,
   "id": "2e4c9c62",
   "metadata": {},
   "outputs": [
    {
     "name": "stdout",
     "output_type": "stream",
     "text": [
      "Nombre de lignes et colonnes : (99224, 7)\n",
      "\n",
      "Type de données :\n",
      "\n",
      "review_id                  object\n",
      "order_id                   object\n",
      "review_score                int64\n",
      "review_comment_title       object\n",
      "review_comment_message     object\n",
      "review_creation_date       object\n",
      "review_answer_timestamp    object\n",
      "dtype: object\n",
      "\n",
      "Valeurs manquantes :\n",
      "\n",
      "review_id                      0\n",
      "order_id                       0\n",
      "review_score                   0\n",
      "review_comment_title       87656\n",
      "review_comment_message     58247\n",
      "review_creation_date           0\n",
      "review_answer_timestamp        0\n",
      "dtype: int64\n",
      "\n",
      "Nombre de doublons :\n",
      "\n",
      "review_id : 814 doublons\n",
      "order_id : 551 doublons\n",
      "review_score : 99219 doublons\n",
      "review_comment_title : 94696 doublons\n",
      "review_comment_message : 63064 doublons\n",
      "review_creation_date : 98588 doublons\n",
      "review_answer_timestamp : 976 doublons\n"
     ]
    }
   ],
   "source": [
    "analyseDf(order_review)"
   ]
  },
  {
   "cell_type": "markdown",
   "id": "fd95f5f2",
   "metadata": {},
   "source": [
    "#### Analayse de order_payments"
   ]
  },
  {
   "cell_type": "code",
   "execution_count": 94,
   "id": "4935358c",
   "metadata": {},
   "outputs": [
    {
     "name": "stdout",
     "output_type": "stream",
     "text": [
      "Nombre de lignes et colonnes : (103886, 5)\n",
      "\n",
      "Type de données :\n",
      "\n",
      "order_id                 object\n",
      "payment_sequential        int64\n",
      "payment_type             object\n",
      "payment_installments      int64\n",
      "payment_value           float64\n",
      "dtype: object\n",
      "\n",
      "Valeurs manquantes :\n",
      "\n",
      "order_id                0\n",
      "payment_sequential      0\n",
      "payment_type            0\n",
      "payment_installments    0\n",
      "payment_value           0\n",
      "dtype: int64\n",
      "\n",
      "Nombre de doublons :\n",
      "\n",
      "order_id : 4446 doublons\n",
      "payment_sequential : 103857 doublons\n",
      "payment_type : 103881 doublons\n",
      "payment_installments : 103862 doublons\n",
      "payment_value : 74809 doublons\n"
     ]
    }
   ],
   "source": [
    "analyseDf(order_payments)"
   ]
  },
  {
   "cell_type": "markdown",
   "id": "8e09a365",
   "metadata": {},
   "source": [
    "#### Analyse de orders"
   ]
  },
  {
   "cell_type": "code",
   "execution_count": 95,
   "id": "344c2017",
   "metadata": {},
   "outputs": [
    {
     "name": "stdout",
     "output_type": "stream",
     "text": [
      "Nombre de lignes et colonnes : (99441, 8)\n",
      "\n",
      "Type de données :\n",
      "\n",
      "order_id                         object\n",
      "customer_id                      object\n",
      "order_status                     object\n",
      "order_purchase_timestamp         object\n",
      "order_approved_at                object\n",
      "order_delivered_carrier_date     object\n",
      "order_delivered_customer_date    object\n",
      "order_estimated_delivery_date    object\n",
      "dtype: object\n",
      "\n",
      "Valeurs manquantes :\n",
      "\n",
      "order_id                            0\n",
      "customer_id                         0\n",
      "order_status                        0\n",
      "order_purchase_timestamp            0\n",
      "order_approved_at                 160\n",
      "order_delivered_carrier_date     1783\n",
      "order_delivered_customer_date    2965\n",
      "order_estimated_delivery_date       0\n",
      "dtype: int64\n",
      "\n",
      "Nombre de doublons :\n",
      "\n",
      "order_id : 0 doublons\n",
      "customer_id : 0 doublons\n",
      "order_status : 99433 doublons\n",
      "order_purchase_timestamp : 566 doublons\n",
      "order_approved_at : 8707 doublons\n",
      "order_delivered_carrier_date : 18422 doublons\n",
      "order_delivered_customer_date : 3776 doublons\n",
      "order_estimated_delivery_date : 98982 doublons\n"
     ]
    }
   ],
   "source": [
    "analyseDf(orders)"
   ]
  },
  {
   "cell_type": "markdown",
   "id": "4493b86e",
   "metadata": {},
   "source": [
    "#### Analyse de order_customer"
   ]
  },
  {
   "cell_type": "code",
   "execution_count": 96,
   "id": "18c5faac",
   "metadata": {},
   "outputs": [
    {
     "name": "stdout",
     "output_type": "stream",
     "text": [
      "Nombre de lignes et colonnes : (99441, 5)\n",
      "\n",
      "Type de données :\n",
      "\n",
      "customer_id                 object\n",
      "customer_unique_id          object\n",
      "customer_zip_code_prefix     int64\n",
      "customer_city               object\n",
      "customer_state              object\n",
      "dtype: object\n",
      "\n",
      "Valeurs manquantes :\n",
      "\n",
      "customer_id                 0\n",
      "customer_unique_id          0\n",
      "customer_zip_code_prefix    0\n",
      "customer_city               0\n",
      "customer_state              0\n",
      "dtype: int64\n",
      "\n",
      "Nombre de doublons :\n",
      "\n",
      "customer_id : 0 doublons\n",
      "customer_unique_id : 3345 doublons\n",
      "customer_zip_code_prefix : 84447 doublons\n",
      "customer_city : 95322 doublons\n",
      "customer_state : 99414 doublons\n"
     ]
    }
   ],
   "source": [
    "analyseDf(order_customer)"
   ]
  },
  {
   "cell_type": "markdown",
   "id": "5625a4da",
   "metadata": {},
   "source": [
    "#### Analyse de products"
   ]
  },
  {
   "cell_type": "code",
   "execution_count": 97,
   "id": "459aa0d2",
   "metadata": {},
   "outputs": [
    {
     "name": "stdout",
     "output_type": "stream",
     "text": [
      "Nombre de lignes et colonnes : (32951, 9)\n",
      "\n",
      "Type de données :\n",
      "\n",
      "product_id                     object\n",
      "product_category_name          object\n",
      "product_name_lenght           float64\n",
      "product_description_lenght    float64\n",
      "product_photos_qty            float64\n",
      "product_weight_g              float64\n",
      "product_length_cm             float64\n",
      "product_height_cm             float64\n",
      "product_width_cm              float64\n",
      "dtype: object\n",
      "\n",
      "Valeurs manquantes :\n",
      "\n",
      "product_id                      0\n",
      "product_category_name         610\n",
      "product_name_lenght           610\n",
      "product_description_lenght    610\n",
      "product_photos_qty            610\n",
      "product_weight_g                2\n",
      "product_length_cm               2\n",
      "product_height_cm               2\n",
      "product_width_cm                2\n",
      "dtype: int64\n",
      "\n",
      "Nombre de doublons :\n",
      "\n",
      "product_id : 0 doublons\n",
      "product_category_name : 32877 doublons\n",
      "product_name_lenght : 32884 doublons\n",
      "product_description_lenght : 29990 doublons\n",
      "product_photos_qty : 32931 doublons\n",
      "product_weight_g : 30746 doublons\n",
      "product_length_cm : 32851 doublons\n",
      "product_height_cm : 32848 doublons\n",
      "product_width_cm : 32855 doublons\n"
     ]
    }
   ],
   "source": [
    "analyseDf(products)"
   ]
  },
  {
   "cell_type": "markdown",
   "id": "a04e088b",
   "metadata": {},
   "source": [
    "#### Analyse de order_items"
   ]
  },
  {
   "cell_type": "code",
   "execution_count": 99,
   "id": "378506fe",
   "metadata": {},
   "outputs": [
    {
     "name": "stdout",
     "output_type": "stream",
     "text": [
      "Nombre de lignes et colonnes : (112650, 7)\n",
      "\n",
      "Type de données :\n",
      "\n",
      "order_id                object\n",
      "order_item_id            int64\n",
      "product_id              object\n",
      "seller_id               object\n",
      "shipping_limit_date     object\n",
      "price                  float64\n",
      "freight_value          float64\n",
      "dtype: object\n",
      "\n",
      "Valeurs manquantes :\n",
      "\n",
      "order_id               0\n",
      "order_item_id          0\n",
      "product_id             0\n",
      "seller_id              0\n",
      "shipping_limit_date    0\n",
      "price                  0\n",
      "freight_value          0\n",
      "dtype: int64\n",
      "\n",
      "Nombre de doublons :\n",
      "\n",
      "order_id : 13984 doublons\n",
      "order_item_id : 112629 doublons\n",
      "product_id : 79699 doublons\n",
      "seller_id : 109555 doublons\n",
      "shipping_limit_date : 19332 doublons\n",
      "price : 106682 doublons\n",
      "freight_value : 105651 doublons\n"
     ]
    }
   ],
   "source": [
    "analyseDf(order_items)"
   ]
  },
  {
   "cell_type": "markdown",
   "id": "05b4f096",
   "metadata": {},
   "source": [
    "#### Analyse de sellers"
   ]
  },
  {
   "cell_type": "code",
   "execution_count": 100,
   "id": "47695a3d",
   "metadata": {},
   "outputs": [
    {
     "name": "stdout",
     "output_type": "stream",
     "text": [
      "Nombre de lignes et colonnes : (3095, 4)\n",
      "\n",
      "Type de données :\n",
      "\n",
      "seller_id                 object\n",
      "seller_zip_code_prefix     int64\n",
      "seller_city               object\n",
      "seller_state              object\n",
      "dtype: object\n",
      "\n",
      "Valeurs manquantes :\n",
      "\n",
      "seller_id                 0\n",
      "seller_zip_code_prefix    0\n",
      "seller_city               0\n",
      "seller_state              0\n",
      "dtype: int64\n",
      "\n",
      "Nombre de doublons :\n",
      "\n",
      "seller_id : 0 doublons\n",
      "seller_zip_code_prefix : 849 doublons\n",
      "seller_city : 2484 doublons\n",
      "seller_state : 3072 doublons\n"
     ]
    }
   ],
   "source": [
    "analyseDf(sellers)"
   ]
  },
  {
   "cell_type": "markdown",
   "id": "ed3bb901",
   "metadata": {},
   "source": [
    "#### Analyse de geolocation"
   ]
  },
  {
   "cell_type": "code",
   "execution_count": 101,
   "id": "cede4d96",
   "metadata": {},
   "outputs": [
    {
     "name": "stdout",
     "output_type": "stream",
     "text": [
      "Nombre de lignes et colonnes : (1000163, 5)\n",
      "\n",
      "Type de données :\n",
      "\n",
      "geolocation_zip_code_prefix      int64\n",
      "geolocation_lat                float64\n",
      "geolocation_lng                float64\n",
      "geolocation_city                object\n",
      "geolocation_state               object\n",
      "dtype: object\n",
      "\n",
      "Valeurs manquantes :\n",
      "\n",
      "geolocation_zip_code_prefix    0\n",
      "geolocation_lat                0\n",
      "geolocation_lng                0\n",
      "geolocation_city               0\n",
      "geolocation_state              0\n",
      "dtype: int64\n",
      "\n",
      "Nombre de doublons :\n",
      "\n",
      "geolocation_zip_code_prefix : 981148 doublons\n",
      "geolocation_lat : 282803 doublons\n",
      "geolocation_lng : 282550 doublons\n",
      "geolocation_city : 992152 doublons\n",
      "geolocation_state : 1000136 doublons\n"
     ]
    }
   ],
   "source": [
    "analyseDf(geolocation)"
   ]
  },
  {
   "cell_type": "markdown",
   "id": "349f9200",
   "metadata": {},
   "source": [
    "#### Analyse de product_category_name_translation"
   ]
  },
  {
   "cell_type": "code",
   "execution_count": 104,
   "id": "13438111",
   "metadata": {},
   "outputs": [
    {
     "name": "stdout",
     "output_type": "stream",
     "text": [
      "Nombre de lignes et colonnes : (71, 2)\n",
      "\n",
      "Type de données :\n",
      "\n",
      "product_category_name            object\n",
      "product_category_name_english    object\n",
      "dtype: object\n",
      "\n",
      "Valeurs manquantes :\n",
      "\n",
      "product_category_name            0\n",
      "product_category_name_english    0\n",
      "dtype: int64\n",
      "\n",
      "Nombre de doublons :\n",
      "\n",
      "product_category_name : 0 doublons\n",
      "product_category_name_english : 0 doublons\n"
     ]
    }
   ],
   "source": [
    "analyseDf(product_category_name_translation)"
   ]
  }
 ],
 "metadata": {
  "kernelspec": {
   "display_name": "Python 3 (ipykernel)",
   "language": "python",
   "name": "python3"
  },
  "language_info": {
   "codemirror_mode": {
    "name": "ipython",
    "version": 3
   },
   "file_extension": ".py",
   "mimetype": "text/x-python",
   "name": "python",
   "nbconvert_exporter": "python",
   "pygments_lexer": "ipython3",
   "version": "3.8.12"
  }
 },
 "nbformat": 4,
 "nbformat_minor": 5
}
